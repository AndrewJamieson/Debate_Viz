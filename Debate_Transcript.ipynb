{
 "cells": [
  {
   "cell_type": "code",
   "execution_count": 1,
   "metadata": {},
   "outputs": [],
   "source": [
    "from selenium import webdriver\n",
    "from selenium.webdriver.common.keys import Keys"
   ]
  },
  {
   "cell_type": "code",
   "execution_count": 2,
   "metadata": {},
   "outputs": [],
   "source": [
    "path = 'C:/Program Files (x86)/Google/Chrome/Application/chromedriver.exe'\n",
    "driver = webdriver.Chrome(executable_path = path)\n",
    "url = \"https://www.usatoday.com/story/news/politics/elections/2020/10/23/debate-transcript-trump-biden-final-presidential-debate-nashville/3740152001/\"\n",
    "page = driver.get(url)"
   ]
  },
  {
   "cell_type": "code",
   "execution_count": 27,
   "metadata": {},
   "outputs": [],
   "source": [
    "from gazpacho import get, Soup\n",
    "\n",
    "import pandas as pd\n",
    "import time\n",
    "import random\n",
    "import sqlite3\n",
    "import re"
   ]
  },
  {
   "cell_type": "code",
   "execution_count": 4,
   "metadata": {},
   "outputs": [],
   "source": [
    "html = driver.page_source # using Selenium as the driver\n",
    "soup = Soup(html) # using Gazpacho to view the results"
   ]
  },
  {
   "cell_type": "code",
   "execution_count": 5,
   "metadata": {},
   "outputs": [],
   "source": [
    "debate = soup.find('div', {'class': 'gnt_ar_b'}) # find this by inspecting element in the browser."
   ]
  },
  {
   "cell_type": "code",
   "execution_count": 6,
   "metadata": {},
   "outputs": [],
   "source": [
    "line1 = debate.find('p', {'class': 'gnt_ar_b'}) # find this by inspecting element in the browser."
   ]
  },
  {
   "cell_type": "code",
   "execution_count": 7,
   "metadata": {},
   "outputs": [
    {
     "data": {
      "text/plain": [
       "354"
      ]
     },
     "execution_count": 7,
     "metadata": {},
     "output_type": "execute_result"
    }
   ],
   "source": [
    "len(line1)"
   ]
  },
  {
   "cell_type": "code",
   "execution_count": 8,
   "metadata": {},
   "outputs": [
    {
     "data": {
      "text/plain": [
       "<p class=\"gnt_ar_b_p\"><strong>[3:05] Welker:</strong> OK, former Vice President Biden, to you, how would you lead the country out of this crisis? You have two minutes uninterrupted.</p>"
      ]
     },
     "execution_count": 8,
     "metadata": {},
     "output_type": "execute_result"
    }
   ],
   "source": [
    "line1[4]"
   ]
  },
  {
   "cell_type": "code",
   "execution_count": 9,
   "metadata": {},
   "outputs": [
    {
     "data": {
      "text/plain": [
       "\"[0:00] Welker: A very good evening to both of you. This debate will cover six major topics. At the beginning of each section, each candidate will have two minutes, uninterrupted, to answer my first question. The debate commission will then turn on their microphone only when it is their turn to answer, and the commission will turn it off exactly when the two minutes have expired. After that, both microphones will remain on, but on behalf of the voters, I'm going to ask you to please speak one at a time. The goal is for you to hear each other and for the American people to hear every word of what you both have to say. And so with that, if you're ready, let's start.\""
      ]
     },
     "execution_count": 9,
     "metadata": {},
     "output_type": "execute_result"
    }
   ],
   "source": [
    "debate.find('p')[1].remove_tags()"
   ]
  },
  {
   "cell_type": "code",
   "execution_count": 10,
   "metadata": {
    "scrolled": true
   },
   "outputs": [],
   "source": [
    "strong = debate.find('strong')"
   ]
  },
  {
   "cell_type": "code",
   "execution_count": 11,
   "metadata": {},
   "outputs": [
    {
     "data": {
      "text/plain": [
       "[<strong>[0:00] Welker: </strong>,\n",
       " <strong>[3:05] Welker:</strong>,\n",
       " <strong>[3:12] Biden: </strong>,\n",
       " <strong>[5:00] Welker: </strong>,\n",
       " <strong>[5:12] Trump:</strong>,\n",
       " <strong>[5:21] Welker:</strong>,\n",
       " <strong>Trump: </strong>,\n",
       " <strong>[5:34] Welker:</strong>,\n",
       " <strong>[5:52] Trump: </strong>,\n",
       " <strong>[6:12] Welker: </strong>,\n",
       " <strong>[6:25] Biden: </strong>,\n",
       " <strong>[6:53] Welker: </strong>,\n",
       " <strong>[6:55] Trump:</strong>,\n",
       " <strong>[8:09] Welker: </strong>,\n",
       " <strong>[8:10] Biden: </strong>,\n",
       " <strong>[9:02] Welker:</strong>,\n",
       " <strong>[9:03] Trump:</strong>,\n",
       " <strong>[10:09] Welker: </strong>,\n",
       " <strong>[10:19] Biden: </strong>,\n",
       " <strong>[10:20] Welker: </strong>,\n",
       " <strong>[10:22] Biden: </strong>,\n",
       " <strong>[10:55] Welker:</strong>,\n",
       " <strong>[10:56] Trump: </strong>,\n",
       " <strong>[10:57] Welker: </strong>,\n",
       " <strong>[10:58] Trump: </strong>,\n",
       " <strong>[11:15] Welker:</strong>,\n",
       " <strong>[11:16] Biden: </strong>,\n",
       " <strong>[11:42] Welker: </strong>,\n",
       " <strong>[11:43] Trump:</strong>,\n",
       " <strong>[12:12] Biden:</strong>,\n",
       " <strong>[12:13] Trump: </strong>,\n",
       " <strong>[12:16] Biden</strong>,\n",
       " <strong>[12:23] Welker: </strong>,\n",
       " <strong>[12:26] Trump:</strong>,\n",
       " <strong>[12:30] Welker:</strong>,\n",
       " <strong>[12:33] Biden: </strong>,\n",
       " <strong>[12:33] Welker: </strong>,\n",
       " <strong>[12:51] Biden: </strong>,\n",
       " <strong>[13:21] Welker: </strong>,\n",
       " <strong>[13:24] Biden:</strong>,\n",
       " <strong>[14:03] Welker:</strong>,\n",
       " <strong>[14:05] Trump: </strong>,\n",
       " <strong>[14:07] Welker: </strong>,\n",
       " <strong>[14:08] Trump: </strong>,\n",
       " <strong>[14:46] Welker:</strong>,\n",
       " <strong>[15:04] Trump: </strong>,\n",
       " <strong>[15:49] Welker:</strong>,\n",
       " <strong>[15:51] Biden: </strong>,\n",
       " <strong>[16:37] Welker:</strong>,\n",
       " <strong>[16:39] Trump:</strong>,\n",
       " <strong>[17:34] Welker: </strong>,\n",
       " <strong>[17:34] Biden: </strong>,\n",
       " <strong>Trump: </strong>,\n",
       " <strong>[18:00] Welker: </strong>,\n",
       " <strong>[18:02] Trump: </strong>,\n",
       " <strong>[18:42] Welker: </strong>,\n",
       " <strong>[18:58] Trump:</strong>,\n",
       " <strong>[19:43] Welker: </strong>,\n",
       " <strong>[19:45] Biden:</strong>,\n",
       " <strong>[20:30] Trump: </strong>,\n",
       " <strong>[20:31] Welker: </strong>,\n",
       " <strong>[20:33] Trump:</strong>,\n",
       " <strong>[21:15] Welker:</strong>,\n",
       " <strong>[21:17] Biden: </strong>,\n",
       " <strong>[21:18] Welker: </strong>,\n",
       " <strong>[21:48] Biden: </strong>,\n",
       " <strong>[23:45] Welker: </strong>,\n",
       " <strong>[23:56] Trump: </strong>,\n",
       " <strong>[26:01] Welker: </strong>,\n",
       " <strong>[26:06] Biden:</strong>,\n",
       " <strong>[27:04]Welker:</strong>,\n",
       " <strong>[27:06] Trump:</strong>,\n",
       " <strong>[27:42] Welker:</strong>,\n",
       " <strong>[27:44] Trump: </strong>,\n",
       " <strong>[28:22] Welker:</strong>,\n",
       " <strong>[28:35] Trump:</strong>,\n",
       " <strong>[29:04] Welker:</strong>,\n",
       " <strong>[29:12] Biden: </strong>,\n",
       " <strong>[29:13] Welker: </strong>,\n",
       " <strong>[29:15] Biden: </strong>,\n",
       " <strong>[29:42] Welker: </strong>,\n",
       " <strong>[29:46] Trump: </strong>,\n",
       " <strong>[30:41] Welker: </strong>,\n",
       " <strong>[30:56] Biden: </strong>,\n",
       " <strong>[31:58] Welker: </strong>,\n",
       " <strong>[32:00] Trump:</strong>,\n",
       " <strong>[32:01] Welker: </strong>,\n",
       " <strong>[32:02] Trump:</strong>,\n",
       " <strong>[32:27] Welker:</strong>,\n",
       " <strong>[32:31] Biden:</strong>,\n",
       " <strong>[32:35] Welker:</strong>,\n",
       " <strong>[32:52] Trump:</strong>,\n",
       " <strong>[32:26] Welker: </strong>,\n",
       " <strong>[32:27] Trump:</strong>,\n",
       " <strong>[33:54] Welker:</strong>,\n",
       " <strong>Biden: </strong>,\n",
       " <strong>[35:33] Welker: </strong>,\n",
       " <strong>[35:35] Trump:</strong>,\n",
       " <strong>[35:37] Welker:</strong>,\n",
       " <strong>[35:39] Trump:</strong>,\n",
       " <strong>[35:41] Biden: </strong>,\n",
       " <strong>[35:42] Trump: </strong>,\n",
       " <strong>[35:56] Biden:</strong>,\n",
       " <strong>[35:56] Welker:</strong>,\n",
       " <strong>[36:03] Trump:</strong>,\n",
       " <strong>[36:07] Welker: </strong>,\n",
       " <strong>[36:08] Trump: </strong>,\n",
       " <strong>[36:12] Biden:</strong>,\n",
       " <strong>[36:14] Trump: </strong>,\n",
       " <strong>[36:15] Biden:</strong>,\n",
       " <strong>[36:16] Trump:</strong>,\n",
       " <strong>[36:20] Biden:</strong>,\n",
       " <strong>[36:20] Trump:</strong>,\n",
       " <strong>[36:42] Welker: </strong>,\n",
       " <strong>[36:49] Biden: </strong>,\n",
       " <strong>[37:26] Welker: </strong>,\n",
       " <strong>[37:28] Trump: </strong>,\n",
       " <strong>[37:29] Welker: </strong>,\n",
       " <strong>[37:31] Trump:</strong>,\n",
       " <strong>[37:40] Welker: </strong>,\n",
       " <strong>[37:40] Trump:</strong>,\n",
       " <strong>[37:44] Welker:</strong>,\n",
       " <strong>[37:44] Trump: </strong>,\n",
       " <strong>[37:48] Welker: </strong>,\n",
       " <strong>[38:12] Trump:</strong>,\n",
       " <strong>[39:05] Welker:</strong>,\n",
       " <strong>[39:15] Biden: </strong>,\n",
       " <strong>[40:05] Welker:</strong>,\n",
       " <strong>[40:12] Biden: </strong>,\n",
       " <strong>[40:21] Welker:</strong>,\n",
       " <strong>[40:24] Trump:</strong>,\n",
       " <strong>[40:24] Welker: </strong>,\n",
       " <strong>Trump: </strong>,\n",
       " <strong>[40:32] Welker:</strong>,\n",
       " <strong>[40:33] Trump: </strong>,\n",
       " <strong>[40:43] Welker: </strong>,\n",
       " <strong>[40:43] Biden:</strong>,\n",
       " <strong>[41:10] Trump:</strong>,\n",
       " <strong>[41:12] Welker: </strong>,\n",
       " <strong>[41:14] Trump:</strong>,\n",
       " <strong>[41:18] Welker: </strong>,\n",
       " <strong>[41:22] Trump: </strong>,\n",
       " <strong>[41:47] Welker: </strong>,\n",
       " <strong>Trump: </strong>,\n",
       " <strong>45:12 Welker: </strong>,\n",
       " <strong>Biden: </strong>,\n",
       " <strong>47:20 Welker:</strong>,\n",
       " <strong>Biden: </strong>,\n",
       " <strong>Welker: </strong>,\n",
       " <strong>Trump: </strong>,\n",
       " <strong>49:24 Welker: </strong>,\n",
       " <strong>Trump: </strong>,\n",
       " <strong>Welker: </strong>,\n",
       " <strong>Trump:</strong>,\n",
       " <strong>Welker: </strong>,\n",
       " <strong>Biden: </strong>,\n",
       " <strong>Trump: </strong>,\n",
       " <strong>Welker: </strong>,\n",
       " <strong>50:08 Trump:</strong>,\n",
       " <strong>Welker: </strong>,\n",
       " <strong>50:31 Trump: </strong>,\n",
       " <strong>Welker: </strong>,\n",
       " <strong>50:34 Biden:</strong>,\n",
       " <strong>Trump: </strong>,\n",
       " <strong>Welker: </strong>,\n",
       " <strong>Trump: </strong>,\n",
       " <strong>51:28 Welker: </strong>,\n",
       " <strong>51:31 Trump: </strong>,\n",
       " <strong>Welker: </strong>,\n",
       " <strong>Biden: </strong>,\n",
       " <strong>Welker:</strong>,\n",
       " <strong>51:40 Biden: </strong>,\n",
       " <strong>52:11 Trump: </strong>,\n",
       " <strong>Welker: </strong>,\n",
       " <strong>52:14 Trump:</strong>,\n",
       " <strong>Welker: </strong>,\n",
       " <strong>Trump: </strong>,\n",
       " <strong>Welker:</strong>,\n",
       " <strong>Trump: </strong>,\n",
       " <strong>Welker:</strong>,\n",
       " <strong>Trump:</strong>,\n",
       " <strong>Welker: </strong>,\n",
       " <strong>Biden: </strong>,\n",
       " <strong>Welker:</strong>,\n",
       " <strong>Trump:</strong>,\n",
       " <strong>53:32 Welker:</strong>,\n",
       " <strong>Biden: </strong>,\n",
       " <strong>Trump: </strong>,\n",
       " <strong>Welker:</strong>,\n",
       " <strong>Biden: </strong>,\n",
       " <strong>Welker: </strong>,\n",
       " <strong>Biden</strong>,\n",
       " <strong>Welker: </strong>,\n",
       " <strong>56:35 Trump: </strong>,\n",
       " <strong>Welker: </strong>,\n",
       " <strong>Trump: </strong>,\n",
       " <strong>57:03 Welker: </strong>,\n",
       " <strong>Trump: </strong>,\n",
       " <strong>Welker: </strong>,\n",
       " <strong>57:10 Trump: </strong>,\n",
       " <strong>Welker: </strong>,\n",
       " <strong>Biden: </strong>,\n",
       " <strong>Welker:</strong>,\n",
       " <strong>Trump: </strong>,\n",
       " <strong>Welker: </strong>,\n",
       " <strong>58:48 Trump:</strong>,\n",
       " <strong>Welker: </strong>,\n",
       " <strong>59:08 Trump: </strong>,\n",
       " <strong>Welker:</strong>,\n",
       " <strong>Biden: </strong>,\n",
       " <strong>Welker:</strong>,\n",
       " <strong>Trump: </strong>,\n",
       " <strong>Biden: </strong>,\n",
       " <strong>Trump: </strong>,\n",
       " <strong>59:58 Biden: </strong>,\n",
       " <strong>Welker: </strong>,\n",
       " <strong>Trump: </strong>,\n",
       " <strong>Welker: </strong>,\n",
       " <strong>Trump: </strong>,\n",
       " <strong>Welker: </strong>,\n",
       " <strong>Biden: </strong>,\n",
       " <strong>1:01:51 Welker: </strong>,\n",
       " <strong>Trump: </strong>,\n",
       " <strong>Welker: </strong>,\n",
       " <strong>Biden: </strong>,\n",
       " <strong>1:02:55 Welker: </strong>,\n",
       " <strong>Trump:</strong>,\n",
       " <strong>Biden: </strong>,\n",
       " <strong>Trump: </strong>,\n",
       " <strong>Welker: </strong>,\n",
       " <strong>Trump: </strong>,\n",
       " <strong>Welker: </strong>,\n",
       " <strong>Biden:</strong>,\n",
       " <strong>Trump: </strong>,\n",
       " <strong>Biden: </strong>,\n",
       " <strong>Welker: </strong>,\n",
       " <strong>Trump: </strong>,\n",
       " <strong>1:03:59 Welker:</strong>,\n",
       " <strong>1:04:04 Biden:</strong>,\n",
       " <strong>Trump: </strong>,\n",
       " <strong>Welker: </strong>,\n",
       " <strong>Biden:</strong>,\n",
       " <strong>1:06:32 Welker: </strong>,\n",
       " <strong>Trump: </strong>,\n",
       " <strong>[1:08:28] Welker:</strong>,\n",
       " <strong>[1:08:33] Biden:</strong>,\n",
       " <strong>[1:10:04] Trump:</strong>,\n",
       " <strong>[1:10:10] Biden:</strong>,\n",
       " <strong>[1:10:10] Trump:</strong>,\n",
       " <strong>[1:10:19] Biden: </strong>,\n",
       " <strong>[1:10:20] Trump: </strong>,\n",
       " <strong>[1:10:34] Welker:</strong>,\n",
       " <strong>[1:10:38] Biden:</strong>,\n",
       " <strong>[1:11:00] Welker:</strong>,\n",
       " <strong>[1:11:01] Trump: </strong>,\n",
       " <strong>[1:11:04] Welker: </strong>,\n",
       " <strong>[1:11:05] Trump:</strong>,\n",
       " <strong>[1:11:19] Biden: </strong>,\n",
       " <strong>[1:11:20] Welker: </strong>,\n",
       " <strong>[1:11:21] Trump:</strong>,\n",
       " <strong>[1:11:25] Welker:</strong>,\n",
       " <strong>[1:11:29] Biden:</strong>,\n",
       " <strong>[1:11:30] Welker: </strong>,\n",
       " <strong>[1:11:32] Biden:</strong>,\n",
       " <strong>[1:11:51] Trump: </strong>,\n",
       " <strong>[1:11:58] Biden:</strong>,\n",
       " <strong>[1:12:00] Trump: </strong>,\n",
       " <strong>[1:12:03] Welker:</strong>,\n",
       " <strong>[1:12:05] Trump: </strong>,\n",
       " <strong>[1:12:09] Welker: </strong>,\n",
       " <strong>[1:12:32] Trump:</strong>,\n",
       " <strong>[1:13:03] Welker: </strong>,\n",
       " <strong>[1:12:06] Trump:</strong>,\n",
       " <strong>[1:13:35] Welker: </strong>,\n",
       " <strong>[1:13:39] Biden: </strong>,\n",
       " <strong>[1:14:12] Welker: </strong>,\n",
       " <strong>[1:14:16] Trump:</strong>,\n",
       " <strong>[1:14:19] Biden:</strong>,\n",
       " <strong>[1:14:21] Trump: </strong>,\n",
       " <strong>[1:14:42] Biden:</strong>,\n",
       " <strong>[1:14:42] Trump:</strong>,\n",
       " <strong>[1:14:50] Welker: </strong>,\n",
       " <strong>[1:15:20] Biden: </strong>,\n",
       " <strong>[1:16:12] Trump:</strong>,\n",
       " <strong>[1:16:34] Biden: </strong>,\n",
       " <strong>[1:16:39] Trump:</strong>,\n",
       " <strong>[1:16:40] Biden: </strong>,\n",
       " <strong>[1:1:08] Trump:</strong>,\n",
       " <strong>[1:17:29] Welker: </strong>,\n",
       " <strong>[1:17:34] Biden: </strong>,\n",
       " <strong>[1:17:37] Welker: </strong>,\n",
       " <strong>[1:17:39] Trump: </strong>,\n",
       " <strong>[1:17:43] Welker: </strong>,\n",
       " <strong>[1:17:44] Trump: </strong>,\n",
       " <strong>[1:17:48] Welker: </strong>,\n",
       " <strong>[1:18:15] Trump:</strong>,\n",
       " <strong>[1:19:50] Welker:</strong>,\n",
       " <strong>[1:19:51] Trump: </strong>,\n",
       " <strong>[1:19:52] Welker:</strong>,\n",
       " <strong>[1:19:55] Biden: </strong>,\n",
       " <strong>[1:21:47] Trump: </strong>,\n",
       " <strong>[1:21:48] Trump: </strong>,\n",
       " <strong>[1:22:47] Welker:</strong>,\n",
       " <strong>[1:23:11] Biden:</strong>,\n",
       " <strong>[1:24:00] Welker:</strong>,\n",
       " <strong>[1:24:00] Trump: </strong>,\n",
       " <strong>[1:24:36] Biden</strong>,\n",
       " <strong>[1:24:38] Trump</strong>,\n",
       " <strong>[1:24:47] Biden:</strong>,\n",
       " <strong>[1:24:47] Trump:  </strong>,\n",
       " <strong>[1:25:01] Welker: </strong>,\n",
       " <strong>[1:25:04] Biden: </strong>,\n",
       " <strong>[1:25:06] Trump: </strong>,\n",
       " <strong>[1:25:08] Biden: </strong>,\n",
       " <strong>[1:25:10] Trump:</strong>,\n",
       " <strong>[1:25:11] Biden:</strong>,\n",
       " <strong>[1:25:15] Welker:</strong>,\n",
       " <strong>[1:25:17] Biden:</strong>,\n",
       " <strong>[1:25:44] Welker:</strong>,\n",
       " <strong>[1:25:48] Trump:</strong>,\n",
       " <strong>[1:26:00] Biden:</strong>,\n",
       " <strong>[1:26:05] Welker:</strong>,\n",
       " <strong>[1:26:26] Trump: </strong>,\n",
       " <strong>[1:27:22] Welker: </strong>,\n",
       " <strong>[1:27:26] Biden: </strong>,\n",
       " <strong>[1:28:12] Welker: </strong>,\n",
       " <strong>[1:28:14] Trump: </strong>,\n",
       " <strong>[1:28:17] Biden:</strong>,\n",
       " <strong>[1:28:19] Trump:</strong>,\n",
       " <strong>[1:28:21] Biden:</strong>,\n",
       " <strong>[1:28:22] Welker:</strong>,\n",
       " <strong>[1:28:24] Biden: </strong>,\n",
       " <strong>[1:28:27] Trump: </strong>,\n",
       " <strong>[1:28:31] Biden:</strong>,\n",
       " <strong>[1:28:52] Trump: </strong>,\n",
       " <strong>[1:28:54] Welker:</strong>,\n",
       " <strong>[1:28:56] Trump:</strong>,\n",
       " <strong>[1:28:59] Welker:</strong>,\n",
       " <strong>[1:29:00] Trump: </strong>,\n",
       " <strong>[1:29:07] Welker: </strong>,\n",
       " <strong>[1:29:12] Biden: </strong>,\n",
       " <strong>[1:29:25] Welker:</strong>,\n",
       " <strong>[1:29:26] Trump:</strong>,\n",
       " <strong>[1:29:27] Welker:</strong>,\n",
       " <strong>[1:29:30] Biden: </strong>,\n",
       " <strong>[1:29:33] Trump:</strong>,\n",
       " <strong>[1:29:34] Welker: </strong>,\n",
       " <strong>[1:29:50] Trump:</strong>,\n",
       " <strong>[1:30:50] Welker: </strong>,\n",
       " <strong>[1:31:00] Biden: </strong>,\n",
       " <strong>[1:32:00] Welker:</strong>]"
      ]
     },
     "execution_count": 11,
     "metadata": {},
     "output_type": "execute_result"
    }
   ],
   "source": [
    "strong"
   ]
  },
  {
   "cell_type": "code",
   "execution_count": 12,
   "metadata": {},
   "outputs": [
    {
     "data": {
      "text/plain": [
       "'[3:05] Welker:'"
      ]
     },
     "execution_count": 12,
     "metadata": {},
     "output_type": "execute_result"
    }
   ],
   "source": [
    "strong[1].remove_tags()"
   ]
  },
  {
   "cell_type": "code",
   "execution_count": 13,
   "metadata": {},
   "outputs": [],
   "source": [
    "speaker_list=[]\n",
    "\n",
    "for i in strong:\n",
    "    speaker = i.remove_tags()\n",
    "    speaker_list.append(speaker)\n"
   ]
  },
  {
   "cell_type": "code",
   "execution_count": 14,
   "metadata": {},
   "outputs": [
    {
     "data": {
      "text/plain": [
       "['[0:00] Welker:', '[3:05] Welker:', '[3:12] Biden:']"
      ]
     },
     "execution_count": 14,
     "metadata": {},
     "output_type": "execute_result"
    }
   ],
   "source": [
    "speaker_list[:3]"
   ]
  },
  {
   "cell_type": "code",
   "execution_count": 15,
   "metadata": {},
   "outputs": [],
   "source": [
    "transcript_list=[]\n",
    "\n",
    "for i in line1:\n",
    "    transcript = i.remove_tags()\n",
    "    transcript_list.append(transcript)"
   ]
  },
  {
   "cell_type": "code",
   "execution_count": 16,
   "metadata": {},
   "outputs": [
    {
     "data": {
      "text/plain": [
       "['Here is the full transcript of the final presidential debate between President Donald Trump and former Vice President Joe Biden, moderated by Kristen Welker in Nashville on Oct. 22, 2020. Headers have been added for ease of reading.',\n",
       " \"[0:00] Welker: A very good evening to both of you. This debate will cover six major topics. At the beginning of each section, each candidate will have two minutes, uninterrupted, to answer my first question. The debate commission will then turn on their microphone only when it is their turn to answer, and the commission will turn it off exactly when the two minutes have expired. After that, both microphones will remain on, but on behalf of the voters, I'm going to ask you to please speak one at a time. The goal is for you to hear each other and for the American people to hear every word of what you both have to say. And so with that, if you're ready, let's start.\",\n",
       " 'And we will begin with the fight against the coronavirus. President Trump, the first question is for you. The country is heading into a dangerous new phase. More than 40,000 Americans are in the hospital tonight with COVID, including record numbers here in Tennessee. And since the two of you last shared a stage, 16,000 Americans have died from COVID. So please be specific: how would you leave the country during this next stage of the coronavirus crisis? Two minutes, uninterrupted.']"
      ]
     },
     "execution_count": 16,
     "metadata": {},
     "output_type": "execute_result"
    }
   ],
   "source": [
    "transcript_list[:3]"
   ]
  },
  {
   "cell_type": "code",
   "execution_count": 17,
   "metadata": {},
   "outputs": [],
   "source": [
    "transcript_list_tags=[]\n",
    "\n",
    "for i in line1:\n",
    "    transcript = i\n",
    "    transcript_list_tags.append(transcript)"
   ]
  },
  {
   "cell_type": "code",
   "execution_count": 18,
   "metadata": {},
   "outputs": [
    {
     "data": {
      "text/plain": [
       "[<p class=\"gnt_ar_b_p\"><em>Here is the full transcript of the final presidential debate between President Donald Trump and former Vice President Joe Biden, moderated by Kristen Welker in Nashville on Oct. 22, 2020. Headers have been added for ease of reading.</em></p>,\n",
       " <p class=\"gnt_ar_b_p\"><strong>[0:00] Welker: </strong>A very good evening to both of you. This debate will cover six major topics. At the beginning of each section, each candidate will have two minutes, uninterrupted, to answer my first question. The debate commission will then turn on their microphone only when it is their turn to answer, and the commission will turn it off exactly when the two minutes have expired. After that, both microphones will remain on, but on behalf of the voters, I'm going to ask you to please speak one at a time. The goal is for you to hear each other and for the American people to hear every word of what you both have to say. And so with that, if you're ready, let's start.</p>]"
      ]
     },
     "execution_count": 18,
     "metadata": {},
     "output_type": "execute_result"
    }
   ],
   "source": [
    "transcript_list_tags[:2]"
   ]
  },
  {
   "cell_type": "code",
   "execution_count": 19,
   "metadata": {},
   "outputs": [],
   "source": [
    "df = pd.DataFrame({'Title': pd.Series(speaker_list),\n",
    "                   'Text': pd.Series(transcript_list)}) "
   ]
  },
  {
   "cell_type": "code",
   "execution_count": 20,
   "metadata": {},
   "outputs": [
    {
     "data": {
      "text/html": [
       "<div>\n",
       "<style scoped>\n",
       "    .dataframe tbody tr th:only-of-type {\n",
       "        vertical-align: middle;\n",
       "    }\n",
       "\n",
       "    .dataframe tbody tr th {\n",
       "        vertical-align: top;\n",
       "    }\n",
       "\n",
       "    .dataframe thead th {\n",
       "        text-align: right;\n",
       "    }\n",
       "</style>\n",
       "<table border=\"1\" class=\"dataframe\">\n",
       "  <thead>\n",
       "    <tr style=\"text-align: right;\">\n",
       "      <th></th>\n",
       "      <th>Title</th>\n",
       "      <th>Text</th>\n",
       "    </tr>\n",
       "  </thead>\n",
       "  <tbody>\n",
       "    <tr>\n",
       "      <th>0</th>\n",
       "      <td>[0:00] Welker:</td>\n",
       "      <td>Here is the full transcript of the final presi...</td>\n",
       "    </tr>\n",
       "    <tr>\n",
       "      <th>1</th>\n",
       "      <td>[3:05] Welker:</td>\n",
       "      <td>[0:00] Welker: A very good evening to both of ...</td>\n",
       "    </tr>\n",
       "    <tr>\n",
       "      <th>2</th>\n",
       "      <td>[3:12] Biden:</td>\n",
       "      <td>And we will begin with the fight against the c...</td>\n",
       "    </tr>\n",
       "    <tr>\n",
       "      <th>3</th>\n",
       "      <td>[5:00] Welker:</td>\n",
       "      <td>[1:03] Trump: So, as you know, more 2.2 millio...</td>\n",
       "    </tr>\n",
       "    <tr>\n",
       "      <th>4</th>\n",
       "      <td>[5:12] Trump:</td>\n",
       "      <td>[3:05] Welker: OK, former Vice President Biden...</td>\n",
       "    </tr>\n",
       "  </tbody>\n",
       "</table>\n",
       "</div>"
      ],
      "text/plain": [
       "            Title                                               Text\n",
       "0  [0:00] Welker:  Here is the full transcript of the final presi...\n",
       "1  [3:05] Welker:  [0:00] Welker: A very good evening to both of ...\n",
       "2   [3:12] Biden:  And we will begin with the fight against the c...\n",
       "3  [5:00] Welker:  [1:03] Trump: So, as you know, more 2.2 millio...\n",
       "4   [5:12] Trump:  [3:05] Welker: OK, former Vice President Biden..."
      ]
     },
     "execution_count": 20,
     "metadata": {},
     "output_type": "execute_result"
    }
   ],
   "source": [
    "df.head()"
   ]
  },
  {
   "cell_type": "code",
   "execution_count": 21,
   "metadata": {},
   "outputs": [],
   "source": [
    "# missing some titles at beginning\n",
    "speaker_list.insert(0,'[0:00] Intro:')\n",
    "speaker_list.insert(2,'[0:30] Welker:')\n",
    "speaker_list.insert(3,'[1:03] Trump:')\n"
   ]
  },
  {
   "cell_type": "code",
   "execution_count": 22,
   "metadata": {},
   "outputs": [
    {
     "data": {
      "text/plain": [
       "354"
      ]
     },
     "execution_count": 22,
     "metadata": {},
     "output_type": "execute_result"
    }
   ],
   "source": [
    "len(speaker_list)"
   ]
  },
  {
   "cell_type": "code",
   "execution_count": 23,
   "metadata": {},
   "outputs": [],
   "source": [
    "# creating dataframe\n",
    "df = pd.DataFrame({'Title': speaker_list,\n",
    "                   'Text': transcript_list}) "
   ]
  },
  {
   "cell_type": "code",
   "execution_count": 24,
   "metadata": {},
   "outputs": [
    {
     "data": {
      "text/html": [
       "<div>\n",
       "<style scoped>\n",
       "    .dataframe tbody tr th:only-of-type {\n",
       "        vertical-align: middle;\n",
       "    }\n",
       "\n",
       "    .dataframe tbody tr th {\n",
       "        vertical-align: top;\n",
       "    }\n",
       "\n",
       "    .dataframe thead th {\n",
       "        text-align: right;\n",
       "    }\n",
       "</style>\n",
       "<table border=\"1\" class=\"dataframe\">\n",
       "  <thead>\n",
       "    <tr style=\"text-align: right;\">\n",
       "      <th></th>\n",
       "      <th>Title</th>\n",
       "      <th>Text</th>\n",
       "    </tr>\n",
       "  </thead>\n",
       "  <tbody>\n",
       "    <tr>\n",
       "      <th>0</th>\n",
       "      <td>[0:00] Intro:</td>\n",
       "      <td>Here is the full transcript of the final presi...</td>\n",
       "    </tr>\n",
       "    <tr>\n",
       "      <th>1</th>\n",
       "      <td>[0:00] Welker:</td>\n",
       "      <td>[0:00] Welker: A very good evening to both of ...</td>\n",
       "    </tr>\n",
       "    <tr>\n",
       "      <th>2</th>\n",
       "      <td>[0:30] Welker:</td>\n",
       "      <td>And we will begin with the fight against the c...</td>\n",
       "    </tr>\n",
       "    <tr>\n",
       "      <th>3</th>\n",
       "      <td>[1:03] Trump:</td>\n",
       "      <td>[1:03] Trump: So, as you know, more 2.2 millio...</td>\n",
       "    </tr>\n",
       "    <tr>\n",
       "      <th>4</th>\n",
       "      <td>[3:05] Welker:</td>\n",
       "      <td>[3:05] Welker: OK, former Vice President Biden...</td>\n",
       "    </tr>\n",
       "    <tr>\n",
       "      <th>...</th>\n",
       "      <td>...</td>\n",
       "      <td>...</td>\n",
       "    </tr>\n",
       "    <tr>\n",
       "      <th>349</th>\n",
       "      <td>[1:29:34] Welker:</td>\n",
       "      <td>[1:29:34] Welker: This is about leadership, ge...</td>\n",
       "    </tr>\n",
       "    <tr>\n",
       "      <th>350</th>\n",
       "      <td>[1:29:50] Trump:</td>\n",
       "      <td>[1:29:50] Trump: We have to make our country t...</td>\n",
       "    </tr>\n",
       "    <tr>\n",
       "      <th>351</th>\n",
       "      <td>[1:30:50] Welker:</td>\n",
       "      <td>[1:30:50] Welker: All right. Vice President Bi...</td>\n",
       "    </tr>\n",
       "    <tr>\n",
       "      <th>352</th>\n",
       "      <td>[1:31:00] Biden:</td>\n",
       "      <td>[1:31:00] Biden: I will say, ‘I’m the American...</td>\n",
       "    </tr>\n",
       "    <tr>\n",
       "      <th>353</th>\n",
       "      <td>[1:32:00] Welker:</td>\n",
       "      <td>[1:32:00] Welker: All right. I want to thank y...</td>\n",
       "    </tr>\n",
       "  </tbody>\n",
       "</table>\n",
       "<p>354 rows × 2 columns</p>\n",
       "</div>"
      ],
      "text/plain": [
       "                 Title                                               Text\n",
       "0        [0:00] Intro:  Here is the full transcript of the final presi...\n",
       "1       [0:00] Welker:  [0:00] Welker: A very good evening to both of ...\n",
       "2       [0:30] Welker:  And we will begin with the fight against the c...\n",
       "3        [1:03] Trump:  [1:03] Trump: So, as you know, more 2.2 millio...\n",
       "4       [3:05] Welker:  [3:05] Welker: OK, former Vice President Biden...\n",
       "..                 ...                                                ...\n",
       "349  [1:29:34] Welker:  [1:29:34] Welker: This is about leadership, ge...\n",
       "350   [1:29:50] Trump:  [1:29:50] Trump: We have to make our country t...\n",
       "351  [1:30:50] Welker:  [1:30:50] Welker: All right. Vice President Bi...\n",
       "352   [1:31:00] Biden:  [1:31:00] Biden: I will say, ‘I’m the American...\n",
       "353  [1:32:00] Welker:  [1:32:00] Welker: All right. I want to thank y...\n",
       "\n",
       "[354 rows x 2 columns]"
      ]
     },
     "execution_count": 24,
     "metadata": {},
     "output_type": "execute_result"
    }
   ],
   "source": [
    "df"
   ]
  },
  {
   "cell_type": "code",
   "execution_count": 25,
   "metadata": {},
   "outputs": [],
   "source": [
    "test_name = '[3:05] Welker'"
   ]
  },
  {
   "cell_type": "code",
   "execution_count": 28,
   "metadata": {},
   "outputs": [
    {
     "data": {
      "text/plain": [
       "['3:05']"
      ]
     },
     "execution_count": 28,
     "metadata": {},
     "output_type": "execute_result"
    }
   ],
   "source": [
    "# regex test\n",
    "re.findall('\\[(.*?)\\]', test_name)"
   ]
  },
  {
   "cell_type": "code",
   "execution_count": 29,
   "metadata": {},
   "outputs": [],
   "source": [
    "# retrieving time from Title column\n",
    "time=[]\n",
    "for t in df['Title']:\n",
    "        t = re.findall('\\[(.*?)\\]', t)\n",
    "        time.append(t)"
   ]
  },
  {
   "cell_type": "code",
   "execution_count": 30,
   "metadata": {},
   "outputs": [
    {
     "data": {
      "text/plain": [
       "[['0:00'], ['0:00'], ['0:30'], ['1:03'], ['3:05'], ['3:12']]"
      ]
     },
     "execution_count": 30,
     "metadata": {},
     "output_type": "execute_result"
    }
   ],
   "source": [
    "time[:6]"
   ]
  },
  {
   "cell_type": "code",
   "execution_count": 31,
   "metadata": {},
   "outputs": [],
   "source": [
    "# remove time from square brackets, accounting for empty brackets\n",
    "time_list = []\n",
    "for sublist in time:\n",
    "    if len(sublist) == 0:\n",
    "            time_list.append('')\n",
    "    for item in sublist:\n",
    "        time_list.append(item)"
   ]
  },
  {
   "cell_type": "code",
   "execution_count": 32,
   "metadata": {},
   "outputs": [
    {
     "data": {
      "text/plain": [
       "['0:00', '0:00', '0:30', '1:03', '3:05', '3:12', '5:00', '5:12', '5:21', '']"
      ]
     },
     "execution_count": 32,
     "metadata": {},
     "output_type": "execute_result"
    }
   ],
   "source": [
    "time_list[:10]"
   ]
  },
  {
   "cell_type": "code",
   "execution_count": 33,
   "metadata": {},
   "outputs": [
    {
     "data": {
      "text/plain": [
       "'[0:00] Welker:'"
      ]
     },
     "execution_count": 33,
     "metadata": {},
     "output_type": "execute_result"
    }
   ],
   "source": [
    "df.Title[1]"
   ]
  },
  {
   "cell_type": "code",
   "execution_count": 34,
   "metadata": {},
   "outputs": [],
   "source": [
    "# retrieving name: A-Z characters in the Title column\n",
    "name=[]\n",
    "for n in df['Title']:\n",
    "        n = re.findall('[a-zA-Z]+', n)\n",
    "        name.append(n)"
   ]
  },
  {
   "cell_type": "code",
   "execution_count": 35,
   "metadata": {},
   "outputs": [
    {
     "data": {
      "text/plain": [
       "[['Intro'], ['Welker'], ['Welker'], ['Trump'], ['Welker'], ['Biden']]"
      ]
     },
     "execution_count": 35,
     "metadata": {},
     "output_type": "execute_result"
    }
   ],
   "source": [
    "name[:6]"
   ]
  },
  {
   "cell_type": "code",
   "execution_count": 36,
   "metadata": {},
   "outputs": [],
   "source": [
    "# remove names from square brackets, accounting for empty brackets\n",
    "name_list = []\n",
    "for sublist in name:\n",
    "    if len(sublist) == 0:\n",
    "            name_list.append('')\n",
    "    for item in sublist:\n",
    "        name_list.append(item)"
   ]
  },
  {
   "cell_type": "code",
   "execution_count": 37,
   "metadata": {},
   "outputs": [],
   "source": [
    "# remove everything before ': '\n",
    "txt = []\n",
    "for t in df['Text']:\n",
    "    t = re.sub('^.*?: ', '', t)\n",
    "    txt.append(t)"
   ]
  },
  {
   "cell_type": "code",
   "execution_count": 38,
   "metadata": {},
   "outputs": [],
   "source": [
    "# adding to dataframe\n",
    "df['Time'] = time_list\n",
    "df['Name'] = name_list\n",
    "df['Txt'] = txt"
   ]
  },
  {
   "cell_type": "code",
   "execution_count": 39,
   "metadata": {},
   "outputs": [],
   "source": [
    "# 3rd line doesn't have ':' before the body of text\n",
    "df['Txt'][2] = df['Text'][2]"
   ]
  },
  {
   "cell_type": "code",
   "execution_count": 40,
   "metadata": {},
   "outputs": [],
   "source": [
    "# check character length of each column and the difference\n",
    "df['len_Text'] = df['Text'].str.len()\n",
    "df['len_Txt'] = df['Txt'].str.len()\n",
    "df['diff'] = df['len_Text'] - df['len_Txt']"
   ]
  },
  {
   "cell_type": "code",
   "execution_count": 41,
   "metadata": {},
   "outputs": [
    {
     "data": {
      "text/plain": [
       "18"
      ]
     },
     "execution_count": 41,
     "metadata": {},
     "output_type": "execute_result"
    }
   ],
   "source": [
    "# max difference looks reasonable\n",
    "df['diff'].max()"
   ]
  },
  {
   "cell_type": "code",
   "execution_count": 42,
   "metadata": {},
   "outputs": [],
   "source": [
    "# save to excel\n",
    "# df.to_excel('debate2.xlsx')"
   ]
  },
  {
   "cell_type": "code",
   "execution_count": 43,
   "metadata": {},
   "outputs": [],
   "source": [
    "# many missing time values, used a separate source to find clean values\n",
    "clean_time = pd.read_csv('cleantime.csv')  "
   ]
  },
  {
   "cell_type": "code",
   "execution_count": 44,
   "metadata": {},
   "outputs": [
    {
     "data": {
      "text/html": [
       "<div>\n",
       "<style scoped>\n",
       "    .dataframe tbody tr th:only-of-type {\n",
       "        vertical-align: middle;\n",
       "    }\n",
       "\n",
       "    .dataframe tbody tr th {\n",
       "        vertical-align: top;\n",
       "    }\n",
       "\n",
       "    .dataframe thead th {\n",
       "        text-align: right;\n",
       "    }\n",
       "</style>\n",
       "<table border=\"1\" class=\"dataframe\">\n",
       "  <thead>\n",
       "    <tr style=\"text-align: right;\">\n",
       "      <th></th>\n",
       "      <th>Clean_Time</th>\n",
       "      <th>Seconds</th>\n",
       "      <th>Elapsed</th>\n",
       "    </tr>\n",
       "  </thead>\n",
       "  <tbody>\n",
       "    <tr>\n",
       "      <th>0</th>\n",
       "      <td>0:00:00</td>\n",
       "      <td>0</td>\n",
       "      <td>0</td>\n",
       "    </tr>\n",
       "    <tr>\n",
       "      <th>1</th>\n",
       "      <td>0:00:00</td>\n",
       "      <td>0</td>\n",
       "      <td>30</td>\n",
       "    </tr>\n",
       "    <tr>\n",
       "      <th>2</th>\n",
       "      <td>0:00:30</td>\n",
       "      <td>30</td>\n",
       "      <td>33</td>\n",
       "    </tr>\n",
       "  </tbody>\n",
       "</table>\n",
       "</div>"
      ],
      "text/plain": [
       "  Clean_Time  Seconds  Elapsed\n",
       "0    0:00:00        0        0\n",
       "1    0:00:00        0       30\n",
       "2    0:00:30       30       33"
      ]
     },
     "execution_count": 44,
     "metadata": {},
     "output_type": "execute_result"
    }
   ],
   "source": [
    "clean_time.head(3)"
   ]
  },
  {
   "cell_type": "code",
   "execution_count": 45,
   "metadata": {},
   "outputs": [],
   "source": [
    "# add columns to dataframe\n",
    "df['Clean_Time'] = clean_time['Clean_Time']\n",
    "df['Seconds'] = clean_time['Seconds']\n",
    "df['Elapsed'] = clean_time['Elapsed'] "
   ]
  },
  {
   "cell_type": "code",
   "execution_count": 46,
   "metadata": {},
   "outputs": [
    {
     "data": {
      "text/html": [
       "<div>\n",
       "<style scoped>\n",
       "    .dataframe tbody tr th:only-of-type {\n",
       "        vertical-align: middle;\n",
       "    }\n",
       "\n",
       "    .dataframe tbody tr th {\n",
       "        vertical-align: top;\n",
       "    }\n",
       "\n",
       "    .dataframe thead th {\n",
       "        text-align: right;\n",
       "    }\n",
       "</style>\n",
       "<table border=\"1\" class=\"dataframe\">\n",
       "  <thead>\n",
       "    <tr style=\"text-align: right;\">\n",
       "      <th></th>\n",
       "      <th>Title</th>\n",
       "      <th>Text</th>\n",
       "      <th>Time</th>\n",
       "      <th>Name</th>\n",
       "      <th>Txt</th>\n",
       "      <th>len_Text</th>\n",
       "      <th>len_Txt</th>\n",
       "      <th>diff</th>\n",
       "      <th>Clean_Time</th>\n",
       "      <th>Seconds</th>\n",
       "      <th>Elapsed</th>\n",
       "    </tr>\n",
       "  </thead>\n",
       "  <tbody>\n",
       "    <tr>\n",
       "      <th>0</th>\n",
       "      <td>[0:00] Intro:</td>\n",
       "      <td>Here is the full transcript of the final presi...</td>\n",
       "      <td>0:00</td>\n",
       "      <td>Intro</td>\n",
       "      <td>Here is the full transcript of the final presi...</td>\n",
       "      <td>232</td>\n",
       "      <td>232</td>\n",
       "      <td>0</td>\n",
       "      <td>0:00:00</td>\n",
       "      <td>0</td>\n",
       "      <td>0</td>\n",
       "    </tr>\n",
       "    <tr>\n",
       "      <th>1</th>\n",
       "      <td>[0:00] Welker:</td>\n",
       "      <td>[0:00] Welker: A very good evening to both of ...</td>\n",
       "      <td>0:00</td>\n",
       "      <td>Welker</td>\n",
       "      <td>A very good evening to both of you. This debat...</td>\n",
       "      <td>671</td>\n",
       "      <td>656</td>\n",
       "      <td>15</td>\n",
       "      <td>0:00:00</td>\n",
       "      <td>0</td>\n",
       "      <td>30</td>\n",
       "    </tr>\n",
       "    <tr>\n",
       "      <th>2</th>\n",
       "      <td>[0:30] Welker:</td>\n",
       "      <td>And we will begin with the fight against the c...</td>\n",
       "      <td>0:30</td>\n",
       "      <td>Welker</td>\n",
       "      <td>And we will begin with the fight against the c...</td>\n",
       "      <td>485</td>\n",
       "      <td>485</td>\n",
       "      <td>0</td>\n",
       "      <td>0:00:30</td>\n",
       "      <td>30</td>\n",
       "      <td>33</td>\n",
       "    </tr>\n",
       "  </tbody>\n",
       "</table>\n",
       "</div>"
      ],
      "text/plain": [
       "            Title                                               Text  Time  \\\n",
       "0   [0:00] Intro:  Here is the full transcript of the final presi...  0:00   \n",
       "1  [0:00] Welker:  [0:00] Welker: A very good evening to both of ...  0:00   \n",
       "2  [0:30] Welker:  And we will begin with the fight against the c...  0:30   \n",
       "\n",
       "     Name                                                Txt  len_Text  \\\n",
       "0   Intro  Here is the full transcript of the final presi...       232   \n",
       "1  Welker  A very good evening to both of you. This debat...       671   \n",
       "2  Welker  And we will begin with the fight against the c...       485   \n",
       "\n",
       "   len_Txt  diff Clean_Time  Seconds  Elapsed  \n",
       "0      232     0    0:00:00        0        0  \n",
       "1      656    15    0:00:00        0       30  \n",
       "2      485     0    0:00:30       30       33  "
      ]
     },
     "execution_count": 46,
     "metadata": {},
     "output_type": "execute_result"
    }
   ],
   "source": [
    "df.head(3)"
   ]
  },
  {
   "cell_type": "code",
   "execution_count": 47,
   "metadata": {},
   "outputs": [],
   "source": [
    "# new df\n",
    "df_clean = df.copy()"
   ]
  },
  {
   "cell_type": "code",
   "execution_count": 48,
   "metadata": {},
   "outputs": [],
   "source": [
    "# drop cleaned columns and calculations\n",
    "df_clean.drop(['Text', 'Time', 'len_Text', 'len_Txt', 'diff'], axis=1, inplace=True)"
   ]
  },
  {
   "cell_type": "code",
   "execution_count": 49,
   "metadata": {},
   "outputs": [
    {
     "data": {
      "text/html": [
       "<div>\n",
       "<style scoped>\n",
       "    .dataframe tbody tr th:only-of-type {\n",
       "        vertical-align: middle;\n",
       "    }\n",
       "\n",
       "    .dataframe tbody tr th {\n",
       "        vertical-align: top;\n",
       "    }\n",
       "\n",
       "    .dataframe thead th {\n",
       "        text-align: right;\n",
       "    }\n",
       "</style>\n",
       "<table border=\"1\" class=\"dataframe\">\n",
       "  <thead>\n",
       "    <tr style=\"text-align: right;\">\n",
       "      <th></th>\n",
       "      <th>Title</th>\n",
       "      <th>Name</th>\n",
       "      <th>Txt</th>\n",
       "      <th>Clean_Time</th>\n",
       "      <th>Seconds</th>\n",
       "      <th>Elapsed</th>\n",
       "    </tr>\n",
       "  </thead>\n",
       "  <tbody>\n",
       "    <tr>\n",
       "      <th>0</th>\n",
       "      <td>[0:00] Intro:</td>\n",
       "      <td>Intro</td>\n",
       "      <td>Here is the full transcript of the final presi...</td>\n",
       "      <td>0:00:00</td>\n",
       "      <td>0</td>\n",
       "      <td>0</td>\n",
       "    </tr>\n",
       "    <tr>\n",
       "      <th>1</th>\n",
       "      <td>[0:00] Welker:</td>\n",
       "      <td>Welker</td>\n",
       "      <td>A very good evening to both of you. This debat...</td>\n",
       "      <td>0:00:00</td>\n",
       "      <td>0</td>\n",
       "      <td>30</td>\n",
       "    </tr>\n",
       "    <tr>\n",
       "      <th>2</th>\n",
       "      <td>[0:30] Welker:</td>\n",
       "      <td>Welker</td>\n",
       "      <td>And we will begin with the fight against the c...</td>\n",
       "      <td>0:00:30</td>\n",
       "      <td>30</td>\n",
       "      <td>33</td>\n",
       "    </tr>\n",
       "    <tr>\n",
       "      <th>3</th>\n",
       "      <td>[1:03] Trump:</td>\n",
       "      <td>Trump</td>\n",
       "      <td>So, as you know, more 2.2 million people, mode...</td>\n",
       "      <td>0:01:03</td>\n",
       "      <td>63</td>\n",
       "      <td>122</td>\n",
       "    </tr>\n",
       "    <tr>\n",
       "      <th>4</th>\n",
       "      <td>[3:05] Welker:</td>\n",
       "      <td>Welker</td>\n",
       "      <td>OK, former Vice President Biden, to you, how w...</td>\n",
       "      <td>0:03:05</td>\n",
       "      <td>185</td>\n",
       "      <td>7</td>\n",
       "    </tr>\n",
       "    <tr>\n",
       "      <th>...</th>\n",
       "      <td>...</td>\n",
       "      <td>...</td>\n",
       "      <td>...</td>\n",
       "      <td>...</td>\n",
       "      <td>...</td>\n",
       "      <td>...</td>\n",
       "    </tr>\n",
       "    <tr>\n",
       "      <th>349</th>\n",
       "      <td>[1:29:34] Welker:</td>\n",
       "      <td>Welker</td>\n",
       "      <td>This is about leadership, gentlemen, and this ...</td>\n",
       "      <td>1:29:34</td>\n",
       "      <td>5374</td>\n",
       "      <td>16</td>\n",
       "    </tr>\n",
       "    <tr>\n",
       "      <th>350</th>\n",
       "      <td>[1:29:50] Trump:</td>\n",
       "      <td>Trump</td>\n",
       "      <td>We have to make our country totally successful...</td>\n",
       "      <td>1:29:50</td>\n",
       "      <td>5390</td>\n",
       "      <td>60</td>\n",
       "    </tr>\n",
       "    <tr>\n",
       "      <th>351</th>\n",
       "      <td>[1:30:50] Welker:</td>\n",
       "      <td>Welker</td>\n",
       "      <td>All right. Vice President Biden, same question...</td>\n",
       "      <td>1:30:50</td>\n",
       "      <td>5450</td>\n",
       "      <td>10</td>\n",
       "    </tr>\n",
       "    <tr>\n",
       "      <th>352</th>\n",
       "      <td>[1:31:00] Biden:</td>\n",
       "      <td>Biden</td>\n",
       "      <td>I will say, ‘I’m the American president. I rep...</td>\n",
       "      <td>1:31:00</td>\n",
       "      <td>5460</td>\n",
       "      <td>60</td>\n",
       "    </tr>\n",
       "    <tr>\n",
       "      <th>353</th>\n",
       "      <td>[1:32:00] Welker:</td>\n",
       "      <td>Welker</td>\n",
       "      <td>All right. I want to thank you both for a very...</td>\n",
       "      <td>1:32:00</td>\n",
       "      <td>5520</td>\n",
       "      <td>23</td>\n",
       "    </tr>\n",
       "  </tbody>\n",
       "</table>\n",
       "<p>354 rows × 6 columns</p>\n",
       "</div>"
      ],
      "text/plain": [
       "                 Title    Name  \\\n",
       "0        [0:00] Intro:   Intro   \n",
       "1       [0:00] Welker:  Welker   \n",
       "2       [0:30] Welker:  Welker   \n",
       "3        [1:03] Trump:   Trump   \n",
       "4       [3:05] Welker:  Welker   \n",
       "..                 ...     ...   \n",
       "349  [1:29:34] Welker:  Welker   \n",
       "350   [1:29:50] Trump:   Trump   \n",
       "351  [1:30:50] Welker:  Welker   \n",
       "352   [1:31:00] Biden:   Biden   \n",
       "353  [1:32:00] Welker:  Welker   \n",
       "\n",
       "                                                   Txt Clean_Time  Seconds  \\\n",
       "0    Here is the full transcript of the final presi...    0:00:00        0   \n",
       "1    A very good evening to both of you. This debat...    0:00:00        0   \n",
       "2    And we will begin with the fight against the c...    0:00:30       30   \n",
       "3    So, as you know, more 2.2 million people, mode...    0:01:03       63   \n",
       "4    OK, former Vice President Biden, to you, how w...    0:03:05      185   \n",
       "..                                                 ...        ...      ...   \n",
       "349  This is about leadership, gentlemen, and this ...    1:29:34     5374   \n",
       "350  We have to make our country totally successful...    1:29:50     5390   \n",
       "351  All right. Vice President Biden, same question...    1:30:50     5450   \n",
       "352  I will say, ‘I’m the American president. I rep...    1:31:00     5460   \n",
       "353  All right. I want to thank you both for a very...    1:32:00     5520   \n",
       "\n",
       "     Elapsed  \n",
       "0          0  \n",
       "1         30  \n",
       "2         33  \n",
       "3        122  \n",
       "4          7  \n",
       "..       ...  \n",
       "349       16  \n",
       "350       60  \n",
       "351       10  \n",
       "352       60  \n",
       "353       23  \n",
       "\n",
       "[354 rows x 6 columns]"
      ]
     },
     "execution_count": 49,
     "metadata": {},
     "output_type": "execute_result"
    }
   ],
   "source": [
    "df_clean"
   ]
  },
  {
   "cell_type": "code",
   "execution_count": 50,
   "metadata": {},
   "outputs": [],
   "source": [
    "df_clean['datetime'] = pd.to_datetime(df_clean['Clean_Time'])"
   ]
  },
  {
   "cell_type": "code",
   "execution_count": 51,
   "metadata": {},
   "outputs": [
    {
     "data": {
      "text/html": [
       "<div>\n",
       "<style scoped>\n",
       "    .dataframe tbody tr th:only-of-type {\n",
       "        vertical-align: middle;\n",
       "    }\n",
       "\n",
       "    .dataframe tbody tr th {\n",
       "        vertical-align: top;\n",
       "    }\n",
       "\n",
       "    .dataframe thead th {\n",
       "        text-align: right;\n",
       "    }\n",
       "</style>\n",
       "<table border=\"1\" class=\"dataframe\">\n",
       "  <thead>\n",
       "    <tr style=\"text-align: right;\">\n",
       "      <th></th>\n",
       "      <th>Title</th>\n",
       "      <th>Name</th>\n",
       "      <th>Txt</th>\n",
       "      <th>Clean_Time</th>\n",
       "      <th>Seconds</th>\n",
       "      <th>Elapsed</th>\n",
       "      <th>datetime</th>\n",
       "    </tr>\n",
       "  </thead>\n",
       "  <tbody>\n",
       "    <tr>\n",
       "      <th>0</th>\n",
       "      <td>[0:00] Intro:</td>\n",
       "      <td>Intro</td>\n",
       "      <td>Here is the full transcript of the final presi...</td>\n",
       "      <td>0:00:00</td>\n",
       "      <td>0</td>\n",
       "      <td>0</td>\n",
       "      <td>2020-11-01 00:00:00</td>\n",
       "    </tr>\n",
       "    <tr>\n",
       "      <th>1</th>\n",
       "      <td>[0:00] Welker:</td>\n",
       "      <td>Welker</td>\n",
       "      <td>A very good evening to both of you. This debat...</td>\n",
       "      <td>0:00:00</td>\n",
       "      <td>0</td>\n",
       "      <td>30</td>\n",
       "      <td>2020-11-01 00:00:00</td>\n",
       "    </tr>\n",
       "    <tr>\n",
       "      <th>2</th>\n",
       "      <td>[0:30] Welker:</td>\n",
       "      <td>Welker</td>\n",
       "      <td>And we will begin with the fight against the c...</td>\n",
       "      <td>0:00:30</td>\n",
       "      <td>30</td>\n",
       "      <td>33</td>\n",
       "      <td>2020-11-01 00:00:30</td>\n",
       "    </tr>\n",
       "    <tr>\n",
       "      <th>3</th>\n",
       "      <td>[1:03] Trump:</td>\n",
       "      <td>Trump</td>\n",
       "      <td>So, as you know, more 2.2 million people, mode...</td>\n",
       "      <td>0:01:03</td>\n",
       "      <td>63</td>\n",
       "      <td>122</td>\n",
       "      <td>2020-11-01 00:01:03</td>\n",
       "    </tr>\n",
       "    <tr>\n",
       "      <th>4</th>\n",
       "      <td>[3:05] Welker:</td>\n",
       "      <td>Welker</td>\n",
       "      <td>OK, former Vice President Biden, to you, how w...</td>\n",
       "      <td>0:03:05</td>\n",
       "      <td>185</td>\n",
       "      <td>7</td>\n",
       "      <td>2020-11-01 00:03:05</td>\n",
       "    </tr>\n",
       "    <tr>\n",
       "      <th>...</th>\n",
       "      <td>...</td>\n",
       "      <td>...</td>\n",
       "      <td>...</td>\n",
       "      <td>...</td>\n",
       "      <td>...</td>\n",
       "      <td>...</td>\n",
       "      <td>...</td>\n",
       "    </tr>\n",
       "    <tr>\n",
       "      <th>349</th>\n",
       "      <td>[1:29:34] Welker:</td>\n",
       "      <td>Welker</td>\n",
       "      <td>This is about leadership, gentlemen, and this ...</td>\n",
       "      <td>1:29:34</td>\n",
       "      <td>5374</td>\n",
       "      <td>16</td>\n",
       "      <td>2020-11-01 01:29:34</td>\n",
       "    </tr>\n",
       "    <tr>\n",
       "      <th>350</th>\n",
       "      <td>[1:29:50] Trump:</td>\n",
       "      <td>Trump</td>\n",
       "      <td>We have to make our country totally successful...</td>\n",
       "      <td>1:29:50</td>\n",
       "      <td>5390</td>\n",
       "      <td>60</td>\n",
       "      <td>2020-11-01 01:29:50</td>\n",
       "    </tr>\n",
       "    <tr>\n",
       "      <th>351</th>\n",
       "      <td>[1:30:50] Welker:</td>\n",
       "      <td>Welker</td>\n",
       "      <td>All right. Vice President Biden, same question...</td>\n",
       "      <td>1:30:50</td>\n",
       "      <td>5450</td>\n",
       "      <td>10</td>\n",
       "      <td>2020-11-01 01:30:50</td>\n",
       "    </tr>\n",
       "    <tr>\n",
       "      <th>352</th>\n",
       "      <td>[1:31:00] Biden:</td>\n",
       "      <td>Biden</td>\n",
       "      <td>I will say, ‘I’m the American president. I rep...</td>\n",
       "      <td>1:31:00</td>\n",
       "      <td>5460</td>\n",
       "      <td>60</td>\n",
       "      <td>2020-11-01 01:31:00</td>\n",
       "    </tr>\n",
       "    <tr>\n",
       "      <th>353</th>\n",
       "      <td>[1:32:00] Welker:</td>\n",
       "      <td>Welker</td>\n",
       "      <td>All right. I want to thank you both for a very...</td>\n",
       "      <td>1:32:00</td>\n",
       "      <td>5520</td>\n",
       "      <td>23</td>\n",
       "      <td>2020-11-01 01:32:00</td>\n",
       "    </tr>\n",
       "  </tbody>\n",
       "</table>\n",
       "<p>354 rows × 7 columns</p>\n",
       "</div>"
      ],
      "text/plain": [
       "                 Title    Name  \\\n",
       "0        [0:00] Intro:   Intro   \n",
       "1       [0:00] Welker:  Welker   \n",
       "2       [0:30] Welker:  Welker   \n",
       "3        [1:03] Trump:   Trump   \n",
       "4       [3:05] Welker:  Welker   \n",
       "..                 ...     ...   \n",
       "349  [1:29:34] Welker:  Welker   \n",
       "350   [1:29:50] Trump:   Trump   \n",
       "351  [1:30:50] Welker:  Welker   \n",
       "352   [1:31:00] Biden:   Biden   \n",
       "353  [1:32:00] Welker:  Welker   \n",
       "\n",
       "                                                   Txt Clean_Time  Seconds  \\\n",
       "0    Here is the full transcript of the final presi...    0:00:00        0   \n",
       "1    A very good evening to both of you. This debat...    0:00:00        0   \n",
       "2    And we will begin with the fight against the c...    0:00:30       30   \n",
       "3    So, as you know, more 2.2 million people, mode...    0:01:03       63   \n",
       "4    OK, former Vice President Biden, to you, how w...    0:03:05      185   \n",
       "..                                                 ...        ...      ...   \n",
       "349  This is about leadership, gentlemen, and this ...    1:29:34     5374   \n",
       "350  We have to make our country totally successful...    1:29:50     5390   \n",
       "351  All right. Vice President Biden, same question...    1:30:50     5450   \n",
       "352  I will say, ‘I’m the American president. I rep...    1:31:00     5460   \n",
       "353  All right. I want to thank you both for a very...    1:32:00     5520   \n",
       "\n",
       "     Elapsed            datetime  \n",
       "0          0 2020-11-01 00:00:00  \n",
       "1         30 2020-11-01 00:00:00  \n",
       "2         33 2020-11-01 00:00:30  \n",
       "3        122 2020-11-01 00:01:03  \n",
       "4          7 2020-11-01 00:03:05  \n",
       "..       ...                 ...  \n",
       "349       16 2020-11-01 01:29:34  \n",
       "350       60 2020-11-01 01:29:50  \n",
       "351       10 2020-11-01 01:30:50  \n",
       "352       60 2020-11-01 01:31:00  \n",
       "353       23 2020-11-01 01:32:00  \n",
       "\n",
       "[354 rows x 7 columns]"
      ]
     },
     "execution_count": 51,
     "metadata": {},
     "output_type": "execute_result"
    }
   ],
   "source": [
    "df_clean"
   ]
  },
  {
   "cell_type": "code",
   "execution_count": null,
   "metadata": {},
   "outputs": [],
   "source": []
  }
 ],
 "metadata": {
  "kernelspec": {
   "display_name": "Python 3",
   "language": "python",
   "name": "python3"
  },
  "language_info": {
   "codemirror_mode": {
    "name": "ipython",
    "version": 3
   },
   "file_extension": ".py",
   "mimetype": "text/x-python",
   "name": "python",
   "nbconvert_exporter": "python",
   "pygments_lexer": "ipython3",
   "version": "3.7.7"
  }
 },
 "nbformat": 4,
 "nbformat_minor": 4
}
